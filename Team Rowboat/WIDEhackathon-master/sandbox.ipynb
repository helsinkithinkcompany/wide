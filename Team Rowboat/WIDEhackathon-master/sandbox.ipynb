{
 "cells": [
  {
   "cell_type": "code",
   "execution_count": null,
   "metadata": {},
   "outputs": [],
   "source": [
    "from finna_client import FinnaClient, FinnaSearchType, FinnaSortMethod\n",
    "import urllib\n",
    "from PIL import Image\n",
    "\n",
    "import requests\n",
    "from io import BytesIO\n",
    "import os\n",
    "\n",
    "LIMIT = 100\n",
    "SUBJECT = 'soutuveneet'\n",
    "row_path = 'data/rowboats'\n",
    "\n",
    "os.mkdir(row_path)\n",
    "os.mkdir('checkpoints')\n",
    "\n",
    "finna = FinnaClient()\n",
    "result = finna.search(SUBJECT, search_type=FinnaSearchType.Subject,\n",
    "                    limit=0, filters=['format:0/Image/', 'online_boolean:1'])\n",
    "\n",
    "pages = result['resultCount'] // LIMIT\n",
    "\n",
    "urls = []\n",
    "for page in range(pages):\n",
    "    result = finna.search(SUBJECT, search_type=FinnaSearchType.Subject,\n",
    "        filters=['format:0/Image/', 'online_boolean:1'],\n",
    "        fields=['images'],\n",
    "        sort=FinnaSortMethod.main_date_str_asc,\n",
    "        limit=LIMIT,\n",
    "        page=page)\n",
    "\n",
    "\n",
    "    for rec in result['records']:\n",
    "        urls.append('https://api.finna.fi' + rec['images'][0])\n",
    "        \n",
    "for i in range(len(urls)):\n",
    "    path = row_path + '/' + str(i) + '.jpg'\n",
    "    size = (224,224)\n",
    "    response = requests.get(urls[i])\n",
    "    im = Image.open(BytesIO(response.content))\n",
    "    im.thumbnail(size, Image.ANTIALIAS)\n",
    "    im.save(path)"
   ]
  },
  {
   "cell_type": "code",
   "execution_count": 93,
   "metadata": {},
   "outputs": [
    {
     "data": {
      "text/plain": [
       "100"
      ]
     },
     "execution_count": 93,
     "metadata": {},
     "output_type": "execute_result"
    }
   ],
   "source": []
  }
 ],
 "metadata": {
  "kernelspec": {
   "display_name": "Python 3",
   "language": "python",
   "name": "python3"
  },
  "language_info": {
   "codemirror_mode": {
    "name": "ipython",
    "version": 3
   },
   "file_extension": ".py",
   "mimetype": "text/x-python",
   "name": "python",
   "nbconvert_exporter": "python",
   "pygments_lexer": "ipython3",
   "version": "3.7.0"
  }
 },
 "nbformat": 4,
 "nbformat_minor": 2
}
